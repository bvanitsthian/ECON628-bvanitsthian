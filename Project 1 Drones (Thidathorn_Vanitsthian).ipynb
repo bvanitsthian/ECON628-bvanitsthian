{
 "cells": [
  {
   "cell_type": "markdown",
   "metadata": {
    "collapsed": true
   },
   "source": [
    "# Project 1 by Thidathorn Vanitsthian \n",
    "#Note: Report must be in ipython notebook, save everything in text, use Markdown instead of Code\n",
    "#Requirements\n",
    "#You need to perform an exhaustive exploration of your dataset.\n",
    "#Your code must show command and understanding of Python (Codeacademy and class 1,2,3 notes)\n",
    "#You need to define functions (no matter how complicated they are)\n",
    "#You don't need to do any modeling\n",
    "#Load and clean, if neccessary, the data with pandas.\n",
    "#Describe the data and investigate any outliers.\n",
    "#Explore relationships between the variables.\n",
    "#Visualize at least five variables of your choice with appropriate visualizations. They should be readable.\n",
    "#Visualize subsets of the variables you chose, subsetted conditional on some other variable.\n",
    "#Write a brief report on at least 5 things you found interesting about the data or, \n",
    "#if it doesn't interest you at all, things you found out and why they are boring."
   ]
  },
  {
   "cell_type": "code",
   "execution_count": 46,
   "metadata": {
    "collapsed": false
   },
   "outputs": [],
   "source": [
    "import pandas as pd\n",
    "import numpy as np\n",
    "import seaborn as sns\n",
    "import matplotlib.pyplot as plt\n",
    "\n",
    "%matplotlib inline"
   ]
  },
  {
   "cell_type": "markdown",
   "metadata": {},
   "source": [
    "# Load and clean data"
   ]
  },
  {
   "cell_type": "code",
   "execution_count": 2,
   "metadata": {
    "collapsed": true
   },
   "outputs": [],
   "source": [
    "df = pd.read_csv(\"/Users/Bua/Downloads/drones.csv\")"
   ]
  },
  {
   "cell_type": "code",
   "execution_count": 3,
   "metadata": {
    "collapsed": false
   },
   "outputs": [
    {
     "data": {
      "text/plain": [
       "(381, 27)"
      ]
     },
     "execution_count": 3,
     "metadata": {},
     "output_type": "execute_result"
    }
   ],
   "source": [
    "df.shape\n"
   ]
  },
  {
   "cell_type": "code",
   "execution_count": 10,
   "metadata": {
    "collapsed": false
   },
   "outputs": [
    {
     "data": {
      "text/plain": [
       "Index([u'Strike ID', u'Bureau ID', u'Date', u'Time', u'Location', u'Area',\n",
       "       u'Target', u'Target Group', u'Westerners involved',\n",
       "       u'Minimum Total Killed', u'Mean Total Killed', u'Maximum Total Killed',\n",
       "       u'Number of deaths', u'AQ/TB Killed', u'Minimum civilians killed',\n",
       "       u'Maximum civilians killed', u'Civilians Killed', u'Min injured',\n",
       "       u'Max injured', u'Injured', u'Minimum children killed',\n",
       "       u'Max children killed', u'Children Killed', u'Pakistani approval',\n",
       "       u'Short Summary', u'Related ID', u'Notes'],\n",
       "      dtype='object')"
      ]
     },
     "execution_count": 10,
     "metadata": {},
     "output_type": "execute_result"
    }
   ],
   "source": [
    "df.columns"
   ]
  },
  {
   "cell_type": "code",
   "execution_count": 39,
   "metadata": {
    "collapsed": false,
    "scrolled": true
   },
   "outputs": [
    {
     "data": {
      "text/plain": [
       "Strike ID                            int64\n",
       "Bureau ID                           object\n",
       "Date                        datetime64[ns]\n",
       "Location                            object\n",
       "Area                                object\n",
       "Target                              object\n",
       "Target Group                        object\n",
       "Westerners involved                 object\n",
       "Minimum Total Killed                 int64\n",
       "Mean Total Killed                  float64\n",
       "Maximum Total Killed                 int64\n",
       "AQ/TB Killed                        object\n",
       "Minimum civilians killed           float64\n",
       "Maximum civilians killed           float64\n",
       "Min injured                        float64\n",
       "Max injured                        float64\n",
       "Minimum children killed            float64\n",
       "Max children killed                float64\n",
       "dtype: object"
      ]
     },
     "execution_count": 39,
     "metadata": {},
     "output_type": "execute_result"
    }
   ],
   "source": [
    "df.dtypes"
   ]
  },
  {
   "cell_type": "code",
   "execution_count": 47,
   "metadata": {
    "collapsed": false
   },
   "outputs": [],
   "source": [
    "# Time always the same of None\n",
    "# \"Number of deaths\", \"Civilians Killed\", \"Children Killed\" redundant infornation\n",
    "# \"Pakistani approval\" small quantity of data (19 records)\n",
    "df.drop(['Time', 'Number of deaths', 'Civilians Killed', 'Injured', 'Children Killed', 'Pakistani approval'], axis=1, inplace=True, errors='ignore')\n",
    "# Convert 'Date' field to DateTime object\n",
    "df['Date'] =  pd.to_datetime(df['Date'])"
   ]
  },
  {
   "cell_type": "code",
   "execution_count": 36,
   "metadata": {
    "collapsed": false
   },
   "outputs": [
    {
     "data": {
      "text/html": [
       "<div>\n",
       "<table border=\"1\" class=\"dataframe\">\n",
       "  <thead>\n",
       "    <tr style=\"text-align: right;\">\n",
       "      <th></th>\n",
       "      <th>count</th>\n",
       "      <th>mean</th>\n",
       "      <th>std</th>\n",
       "      <th>min</th>\n",
       "      <th>25%</th>\n",
       "      <th>50%</th>\n",
       "      <th>75%</th>\n",
       "      <th>max</th>\n",
       "    </tr>\n",
       "  </thead>\n",
       "  <tbody>\n",
       "    <tr>\n",
       "      <th>Strike ID</th>\n",
       "      <td>381.0</td>\n",
       "      <td>201.551181</td>\n",
       "      <td>115.718309</td>\n",
       "      <td>3.0</td>\n",
       "      <td>103.0</td>\n",
       "      <td>201.0</td>\n",
       "      <td>298.0</td>\n",
       "      <td>412.0</td>\n",
       "    </tr>\n",
       "    <tr>\n",
       "      <th>Minimum Total Killed</th>\n",
       "      <td>381.0</td>\n",
       "      <td>6.330709</td>\n",
       "      <td>6.933582</td>\n",
       "      <td>0.0</td>\n",
       "      <td>3.0</td>\n",
       "      <td>4.0</td>\n",
       "      <td>7.0</td>\n",
       "      <td>81.0</td>\n",
       "    </tr>\n",
       "    <tr>\n",
       "      <th>Mean Total Killed</th>\n",
       "      <td>283.0</td>\n",
       "      <td>9.088339</td>\n",
       "      <td>8.613199</td>\n",
       "      <td>0.0</td>\n",
       "      <td>NaN</td>\n",
       "      <td>NaN</td>\n",
       "      <td>NaN</td>\n",
       "      <td>82.0</td>\n",
       "    </tr>\n",
       "    <tr>\n",
       "      <th>Maximum Total Killed</th>\n",
       "      <td>381.0</td>\n",
       "      <td>9.713911</td>\n",
       "      <td>8.656883</td>\n",
       "      <td>0.0</td>\n",
       "      <td>5.0</td>\n",
       "      <td>7.0</td>\n",
       "      <td>12.0</td>\n",
       "      <td>83.0</td>\n",
       "    </tr>\n",
       "    <tr>\n",
       "      <th>Minimum civilians killed</th>\n",
       "      <td>173.0</td>\n",
       "      <td>2.404624</td>\n",
       "      <td>6.721052</td>\n",
       "      <td>0.0</td>\n",
       "      <td>NaN</td>\n",
       "      <td>NaN</td>\n",
       "      <td>NaN</td>\n",
       "      <td>80.0</td>\n",
       "    </tr>\n",
       "    <tr>\n",
       "      <th>Maximum civilians killed</th>\n",
       "      <td>173.0</td>\n",
       "      <td>5.497110</td>\n",
       "      <td>8.717547</td>\n",
       "      <td>0.0</td>\n",
       "      <td>NaN</td>\n",
       "      <td>NaN</td>\n",
       "      <td>NaN</td>\n",
       "      <td>82.0</td>\n",
       "    </tr>\n",
       "    <tr>\n",
       "      <th>Min injured</th>\n",
       "      <td>305.0</td>\n",
       "      <td>3.678689</td>\n",
       "      <td>3.725142</td>\n",
       "      <td>0.0</td>\n",
       "      <td>NaN</td>\n",
       "      <td>NaN</td>\n",
       "      <td>NaN</td>\n",
       "      <td>27.0</td>\n",
       "    </tr>\n",
       "    <tr>\n",
       "      <th>Max injured</th>\n",
       "      <td>305.0</td>\n",
       "      <td>5.265574</td>\n",
       "      <td>5.487273</td>\n",
       "      <td>0.0</td>\n",
       "      <td>NaN</td>\n",
       "      <td>NaN</td>\n",
       "      <td>NaN</td>\n",
       "      <td>50.0</td>\n",
       "    </tr>\n",
       "    <tr>\n",
       "      <th>Minimum children killed</th>\n",
       "      <td>69.0</td>\n",
       "      <td>2.434783</td>\n",
       "      <td>8.232786</td>\n",
       "      <td>0.0</td>\n",
       "      <td>NaN</td>\n",
       "      <td>NaN</td>\n",
       "      <td>NaN</td>\n",
       "      <td>68.0</td>\n",
       "    </tr>\n",
       "    <tr>\n",
       "      <th>Max children killed</th>\n",
       "      <td>68.0</td>\n",
       "      <td>2.941176</td>\n",
       "      <td>8.534185</td>\n",
       "      <td>0.0</td>\n",
       "      <td>NaN</td>\n",
       "      <td>NaN</td>\n",
       "      <td>NaN</td>\n",
       "      <td>70.0</td>\n",
       "    </tr>\n",
       "  </tbody>\n",
       "</table>\n",
       "</div>"
      ],
      "text/plain": [
       "                          count        mean         std  min    25%    50%  \\\n",
       "Strike ID                 381.0  201.551181  115.718309  3.0  103.0  201.0   \n",
       "Minimum Total Killed      381.0    6.330709    6.933582  0.0    3.0    4.0   \n",
       "Mean Total Killed         283.0    9.088339    8.613199  0.0    NaN    NaN   \n",
       "Maximum Total Killed      381.0    9.713911    8.656883  0.0    5.0    7.0   \n",
       "Minimum civilians killed  173.0    2.404624    6.721052  0.0    NaN    NaN   \n",
       "Maximum civilians killed  173.0    5.497110    8.717547  0.0    NaN    NaN   \n",
       "Min injured               305.0    3.678689    3.725142  0.0    NaN    NaN   \n",
       "Max injured               305.0    5.265574    5.487273  0.0    NaN    NaN   \n",
       "Minimum children killed    69.0    2.434783    8.232786  0.0    NaN    NaN   \n",
       "Max children killed        68.0    2.941176    8.534185  0.0    NaN    NaN   \n",
       "\n",
       "                            75%    max  \n",
       "Strike ID                 298.0  412.0  \n",
       "Minimum Total Killed        7.0   81.0  \n",
       "Mean Total Killed           NaN   82.0  \n",
       "Maximum Total Killed       12.0   83.0  \n",
       "Minimum civilians killed    NaN   80.0  \n",
       "Maximum civilians killed    NaN   82.0  \n",
       "Min injured                 NaN   27.0  \n",
       "Max injured                 NaN   50.0  \n",
       "Minimum children killed     NaN   68.0  \n",
       "Max children killed         NaN   70.0  "
      ]
     },
     "execution_count": 36,
     "metadata": {},
     "output_type": "execute_result"
    }
   ],
   "source": [
    "df.describe().T"
   ]
  },
  {
   "cell_type": "markdown",
   "metadata": {},
   "source": [
    "# Data analysis"
   ]
  },
  {
   "cell_type": "markdown",
   "metadata": {},
   "source": [
    "# Top places of drone attack"
   ]
  },
  {
   "cell_type": "code",
   "execution_count": 48,
   "metadata": {
    "collapsed": false
   },
   "outputs": [
    {
     "data": {
      "text/plain": [
       "<matplotlib.axes._subplots.AxesSubplot at 0x1184ee410>"
      ]
     },
     "execution_count": 48,
     "metadata": {},
     "output_type": "execute_result"
    },
    {
     "data": {
      "image/png": "[encoded data removed]",
      "text/plain": [
       "<matplotlib.figure.Figure at 0x1182aa490>"
      ]
     },
     "metadata": {},
     "output_type": "display_data"
    }
   ],
   "source": [
    "df['Location'].value_counts()[:5].plot(kind='bar', color='red')"
   ]
  },
  {
   "cell_type": "markdown",
   "metadata": {},
   "source": [
    "# Quantity of strikes in each year"
   ]
  },
  {
   "cell_type": "code",
   "execution_count": 49,
   "metadata": {
    "collapsed": false
   },
   "outputs": [
    {
     "data": {
      "text/plain": [
       "<matplotlib.axes._subplots.AxesSubplot at 0x118527590>"
      ]
     },
     "execution_count": 49,
     "metadata": {},
     "output_type": "execute_result"
    },
    {
     "data": {
      "image/png": "[encoded data removed]",
      "text/plain": [
       "<matplotlib.figure.Figure at 0x118460990>"
      ]
     },
     "metadata": {},
     "output_type": "display_data"
    }
   ],
   "source": [
    "df.groupby(df['Date'].map(lambda x: x.year))['Strike ID'].count().plot(kind='bar')"
   ]
  },
  {
   "cell_type": "markdown",
   "metadata": {},
   "source": [
    "# Quantity of strikes for each month"
   ]
  },
  {
   "cell_type": "code",
   "execution_count": 53,
   "metadata": {
    "collapsed": false
   },
   "outputs": [
    {
     "data": {
      "text/plain": [
       "<matplotlib.axes._subplots.AxesSubplot at 0x1187861d0>"
      ]
     },
     "execution_count": 53,
     "metadata": {},
     "output_type": "execute_result"
    },
    {
     "data": {
      "image/png": "[encoded data removed]",
      "text/plain": [
       "<matplotlib.figure.Figure at 0x117985c90>"
      ]
     },
     "metadata": {},
     "output_type": "display_data"
    }
   ],
   "source": [
    "df.groupby(df['Date'].map(lambda x: x.month))['Strike ID'].count().plot(kind='bar', color='grey')"
   ]
  },
  {
   "cell_type": "markdown",
   "metadata": {},
   "source": [
    "# Overview of the Mean Total Killed by each Target Group"
   ]
  },
  {
   "cell_type": "code",
   "execution_count": 11,
   "metadata": {
    "collapsed": false
   },
   "outputs": [
    {
     "data": {
      "text/html": [
       "<div>\n",
       "<table border=\"1\" class=\"dataframe\">\n",
       "  <thead>\n",
       "    <tr style=\"text-align: right;\">\n",
       "      <th></th>\n",
       "      <th>Target</th>\n",
       "      <th>Mean Total Killed</th>\n",
       "    </tr>\n",
       "  </thead>\n",
       "  <tbody>\n",
       "    <tr>\n",
       "      <th>0</th>\n",
       "      <td>Maulvi Liaqat</td>\n",
       "      <td>82.000000</td>\n",
       "    </tr>\n",
       "    <tr>\n",
       "      <th>1</th>\n",
       "      <td>Bahram Khan Kochi</td>\n",
       "      <td>31.000000</td>\n",
       "    </tr>\n",
       "    <tr>\n",
       "      <th>2</th>\n",
       "      <td>Ayman al-Zawahiri; Abu Khabab al-Masri; Abd Ra...</td>\n",
       "      <td>20.000000</td>\n",
       "    </tr>\n",
       "    <tr>\n",
       "      <th>3</th>\n",
       "      <td>Abdul Rehman</td>\n",
       "      <td>19.000000</td>\n",
       "    </tr>\n",
       "    <tr>\n",
       "      <th>4</th>\n",
       "      <td>Jalalludin Haqqani</td>\n",
       "      <td>15.500000</td>\n",
       "    </tr>\n",
       "    <tr>\n",
       "      <th>5</th>\n",
       "      <td>Qari Imran</td>\n",
       "      <td>14.000000</td>\n",
       "    </tr>\n",
       "    <tr>\n",
       "      <th>6</th>\n",
       "      <td>Hakimullah Mehsud</td>\n",
       "      <td>14.000000</td>\n",
       "    </tr>\n",
       "    <tr>\n",
       "      <th>7</th>\n",
       "      <td>Abu Jihad al-Masri; Abdur Rehman abu Akash</td>\n",
       "      <td>14.000000</td>\n",
       "    </tr>\n",
       "    <tr>\n",
       "      <th>8</th>\n",
       "      <td>Abu Laith al-Libi</td>\n",
       "      <td>14.000000</td>\n",
       "    </tr>\n",
       "    <tr>\n",
       "      <th>9</th>\n",
       "      <td>Baitullah Mehsud ally</td>\n",
       "      <td>13.000000</td>\n",
       "    </tr>\n",
       "    <tr>\n",
       "      <th>10</th>\n",
       "      <td>Hafiz Gul Bahadar</td>\n",
       "      <td>13.000000</td>\n",
       "    </tr>\n",
       "    <tr>\n",
       "      <th>11</th>\n",
       "      <td>Tariq Khan</td>\n",
       "      <td>13.000000</td>\n",
       "    </tr>\n",
       "    <tr>\n",
       "      <th>12</th>\n",
       "      <td>Maulvi Nazir; Malang Wazir</td>\n",
       "      <td>13.000000</td>\n",
       "    </tr>\n",
       "    <tr>\n",
       "      <th>13</th>\n",
       "      <td>Hakimullah Mehsud; Baitullah Mehsud</td>\n",
       "      <td>12.000000</td>\n",
       "    </tr>\n",
       "    <tr>\n",
       "      <th>14</th>\n",
       "      <td>Baitullah Mehsud</td>\n",
       "      <td>11.600000</td>\n",
       "    </tr>\n",
       "    <tr>\n",
       "      <th>15</th>\n",
       "      <td>Abu Sulayman al-Jazairi</td>\n",
       "      <td>11.000000</td>\n",
       "    </tr>\n",
       "    <tr>\n",
       "      <th>16</th>\n",
       "      <td>Abu Khabab al-Masri</td>\n",
       "      <td>10.000000</td>\n",
       "    </tr>\n",
       "    <tr>\n",
       "      <th>17</th>\n",
       "      <td>Hafiz Sahar Gul</td>\n",
       "      <td>9.000000</td>\n",
       "    </tr>\n",
       "    <tr>\n",
       "      <th>18</th>\n",
       "      <td>Maulvi Nazir?</td>\n",
       "      <td>9.000000</td>\n",
       "    </tr>\n",
       "    <tr>\n",
       "      <th>19</th>\n",
       "      <td>Ilyas Kashmiri</td>\n",
       "      <td>9.000000</td>\n",
       "    </tr>\n",
       "    <tr>\n",
       "      <th>20</th>\n",
       "      <td>Maulvi Nazir</td>\n",
       "      <td>8.818182</td>\n",
       "    </tr>\n",
       "    <tr>\n",
       "      <th>21</th>\n",
       "      <td>Nek Mohammed</td>\n",
       "      <td>7.000000</td>\n",
       "    </tr>\n",
       "    <tr>\n",
       "      <th>22</th>\n",
       "      <td>Khalid Habib</td>\n",
       "      <td>7.000000</td>\n",
       "    </tr>\n",
       "    <tr>\n",
       "      <th>23</th>\n",
       "      <td>Abu Wafa al-Saudi</td>\n",
       "      <td>6.500000</td>\n",
       "    </tr>\n",
       "    <tr>\n",
       "      <th>24</th>\n",
       "      <td>Abu Hamza Rabia</td>\n",
       "      <td>6.500000</td>\n",
       "    </tr>\n",
       "    <tr>\n",
       "      <th>25</th>\n",
       "      <td>Niaz Wali</td>\n",
       "      <td>6.000000</td>\n",
       "    </tr>\n",
       "    <tr>\n",
       "      <th>26</th>\n",
       "      <td>Saifullah</td>\n",
       "      <td>6.000000</td>\n",
       "    </tr>\n",
       "    <tr>\n",
       "      <th>27</th>\n",
       "      <td>Hafiz Gul Bahadur</td>\n",
       "      <td>6.000000</td>\n",
       "    </tr>\n",
       "    <tr>\n",
       "      <th>28</th>\n",
       "      <td>Abu Kasha</td>\n",
       "      <td>5.000000</td>\n",
       "    </tr>\n",
       "    <tr>\n",
       "      <th>29</th>\n",
       "      <td>Abdullah Azzam al-Saudi</td>\n",
       "      <td>5.000000</td>\n",
       "    </tr>\n",
       "    <tr>\n",
       "      <th>30</th>\n",
       "      <td>Taj Ali Khan</td>\n",
       "      <td>5.000000</td>\n",
       "    </tr>\n",
       "    <tr>\n",
       "      <th>31</th>\n",
       "      <td>Zubair al-Masri</td>\n",
       "      <td>5.000000</td>\n",
       "    </tr>\n",
       "    <tr>\n",
       "      <th>32</th>\n",
       "      <td>Maulvi Noor Mohammed</td>\n",
       "      <td>4.000000</td>\n",
       "    </tr>\n",
       "    <tr>\n",
       "      <th>33</th>\n",
       "      <td>Haitham al-Yemeni</td>\n",
       "      <td>2.000000</td>\n",
       "    </tr>\n",
       "    <tr>\n",
       "      <th>34</th>\n",
       "      <td>Shaykh Issa al-Masri</td>\n",
       "      <td>0.000000</td>\n",
       "    </tr>\n",
       "    <tr>\n",
       "      <th>35</th>\n",
       "      <td>Abdul Rehman al-Zaman Yemeni?</td>\n",
       "      <td>NaN</td>\n",
       "    </tr>\n",
       "    <tr>\n",
       "      <th>36</th>\n",
       "      <td>Abu Kasha al Iraqi, Saleh al Turki</td>\n",
       "      <td>NaN</td>\n",
       "    </tr>\n",
       "    <tr>\n",
       "      <th>37</th>\n",
       "      <td>Sheikh Yaseen al Somali</td>\n",
       "      <td>NaN</td>\n",
       "    </tr>\n",
       "    <tr>\n",
       "      <th>38</th>\n",
       "      <td>Wali Muhammad Mehsud</td>\n",
       "      <td>NaN</td>\n",
       "    </tr>\n",
       "  </tbody>\n",
       "</table>\n",
       "</div>"
      ],
      "text/plain": [
       "                                               Target  Mean Total Killed\n",
       "0                                       Maulvi Liaqat          82.000000\n",
       "1                                   Bahram Khan Kochi          31.000000\n",
       "2   Ayman al-Zawahiri; Abu Khabab al-Masri; Abd Ra...          20.000000\n",
       "3                                        Abdul Rehman          19.000000\n",
       "4                                  Jalalludin Haqqani          15.500000\n",
       "5                                          Qari Imran          14.000000\n",
       "6                                   Hakimullah Mehsud          14.000000\n",
       "7          Abu Jihad al-Masri; Abdur Rehman abu Akash          14.000000\n",
       "8                                   Abu Laith al-Libi          14.000000\n",
       "9                               Baitullah Mehsud ally          13.000000\n",
       "10                                  Hafiz Gul Bahadar          13.000000\n",
       "11                                         Tariq Khan          13.000000\n",
       "12                         Maulvi Nazir; Malang Wazir          13.000000\n",
       "13                Hakimullah Mehsud; Baitullah Mehsud          12.000000\n",
       "14                                   Baitullah Mehsud          11.600000\n",
       "15                            Abu Sulayman al-Jazairi          11.000000\n",
       "16                                Abu Khabab al-Masri          10.000000\n",
       "17                                    Hafiz Sahar Gul           9.000000\n",
       "18                                      Maulvi Nazir?           9.000000\n",
       "19                                     Ilyas Kashmiri           9.000000\n",
       "20                                       Maulvi Nazir           8.818182\n",
       "21                                       Nek Mohammed           7.000000\n",
       "22                                       Khalid Habib           7.000000\n",
       "23                                  Abu Wafa al-Saudi           6.500000\n",
       "24                                    Abu Hamza Rabia           6.500000\n",
       "25                                          Niaz Wali           6.000000\n",
       "26                                          Saifullah           6.000000\n",
       "27                                  Hafiz Gul Bahadur           6.000000\n",
       "28                                          Abu Kasha           5.000000\n",
       "29                            Abdullah Azzam al-Saudi           5.000000\n",
       "30                                       Taj Ali Khan           5.000000\n",
       "31                                    Zubair al-Masri           5.000000\n",
       "32                               Maulvi Noor Mohammed           4.000000\n",
       "33                                  Haitham al-Yemeni           2.000000\n",
       "34                               Shaykh Issa al-Masri           0.000000\n",
       "35                      Abdul Rehman al-Zaman Yemeni?                NaN\n",
       "36                 Abu Kasha al Iraqi, Saleh al Turki                NaN\n",
       "37                            Sheikh Yaseen al Somali                NaN\n",
       "38                               Wali Muhammad Mehsud                NaN"
      ]
     },
     "execution_count": 11,
     "metadata": {},
     "output_type": "execute_result"
    }
   ],
   "source": [
    "df.groupby(['Target'], sort=True)[['Mean Total Killed']].mean().sort_values(by=['Mean Total Killed'], ascending=False).reset_index()"
   ]
  },
  {
   "cell_type": "markdown",
   "metadata": {},
   "source": [
    "# Most common target of drone attack"
   ]
  },
  {
   "cell_type": "code",
   "execution_count": 55,
   "metadata": {
    "collapsed": true
   },
   "outputs": [],
   "source": [
    "def count_targets(data):\n",
    "    d = {}\n",
    "    for x in df['Target'][df['Target'].notnull()]:\n",
    "        for target in x.split(';'):\n",
    "            if target.strip() in d.keys():\n",
    "                d[target.strip()] += 1\n",
    "            else:\n",
    "                d[target.strip()] = 1\n",
    "    return sorted(d.items(), key=lambda x: x[1], reverse=True)"
   ]
  },
  {
   "cell_type": "code",
   "execution_count": 57,
   "metadata": {
    "collapsed": false
   },
   "outputs": [
    {
     "data": {
      "text/plain": [
       "<matplotlib.text.Text at 0x118c4b610>"
      ]
     },
     "execution_count": 57,
     "metadata": {},
     "output_type": "execute_result"
    },
    {
     "data": {
      "image/png": "[encoded data removed]",
      "text/plain": [
       "<matplotlib.figure.Figure at 0x1189bbb10>"
      ]
     },
     "metadata": {},
     "output_type": "display_data"
    }
   ],
   "source": [
    "fig, ax = plt.subplots()\n",
    "N = 5\n",
    "ind = 0.6\n",
    "targets = count_targets(df)\n",
    "width = np.arange(N)\n",
    "height = [x[1] for x in targets][:N]\n",
    "labels = [x[0] for x in targets][:N]\n",
    "ax.bar(width + ind, height, color='red')\n",
    "ax.set_xticks(width + ind)\n",
    "ax.set_xticklabels(labels, rotation=45)\n",
    "ax.set_xlabel('Name')\n",
    "ax.set_ylabel('Quantity of attack')"
   ]
  },
  {
   "cell_type": "markdown",
   "metadata": {},
   "source": [
    "# Quantity of people killed"
   ]
  },
  {
   "cell_type": "code",
   "execution_count": 59,
   "metadata": {
    "collapsed": false
   },
   "outputs": [
    {
     "data": {
      "text/plain": [
       "<matplotlib.axes._subplots.AxesSubplot at 0x1189c3810>"
      ]
     },
     "execution_count": 59,
     "metadata": {},
     "output_type": "execute_result"
    },
    {
     "data": {
      "image/png": "[encoded data removed]",
      "text/plain": [
       "<matplotlib.figure.Figure at 0x1189cdf10>"
      ]
     },
     "metadata": {},
     "output_type": "display_data"
    }
   ],
   "source": [
    "df['Mean Total Killed'][df['Mean Total Killed'].notnull()].plot(kind='box')"
   ]
  },
  {
   "cell_type": "markdown",
   "metadata": {},
   "source": [
    "# Area of attack"
   ]
  },
  {
   "cell_type": "code",
   "execution_count": 62,
   "metadata": {
    "collapsed": true
   },
   "outputs": [],
   "source": [
    "def area_of_attack(df):\n",
    "    d = {}\n",
    "    for x in df['Area']:\n",
    "        if x.strip() in d.keys():\n",
    "            d[x.strip()] += 1\n",
    "        else:\n",
    "            d[x.strip()] = 1\n",
    "    d['other'] = 0\n",
    "    for key in list(d.keys()):\n",
    "        if d[key] < 10:\n",
    "            d['other'] += d[key]\n",
    "            del d[key]\n",
    "    return d"
   ]
  },
  {
   "cell_type": "code",
   "execution_count": 63,
   "metadata": {
    "collapsed": false
   },
   "outputs": [
    {
     "data": {
      "text/plain": [
       "([<matplotlib.patches.Wedge at 0x1190abd90>,\n",
       "  <matplotlib.patches.Wedge at 0x1190ba810>,\n",
       "  <matplotlib.patches.Wedge at 0x1190c51d0>],\n",
       " [<matplotlib.text.Text at 0x1190ba410>,\n",
       "  <matplotlib.text.Text at 0x1190bae10>,\n",
       "  <matplotlib.text.Text at 0x1190c57d0>])"
      ]
     },
     "execution_count": 63,
     "metadata": {},
     "output_type": "execute_result"
    },
    {
     "data": {
      "image/png": "[encoded data removed]",
      "text/plain": [
       "<matplotlib.figure.Figure at 0x118de2450>"
      ]
     },
     "metadata": {},
     "output_type": "display_data"
    }
   ],
   "source": [
    "areas = area_of_attack(df)\n",
    "values = areas.values()\n",
    "keys = areas.keys()\n",
    "\n",
    "plt.pie([float(v) for v in values], labels=[str(k) for k in keys], autopct=None)\n"
   ]
  },
  {
   "cell_type": "markdown",
   "metadata": {},
   "source": [
    "# Child death related to day of the week"
   ]
  },
  {
   "cell_type": "code",
   "execution_count": 65,
   "metadata": {
    "collapsed": false
   },
   "outputs": [
    {
     "data": {
      "text/plain": [
       "<matplotlib.text.Text at 0x1191a7d50>"
      ]
     },
     "execution_count": 65,
     "metadata": {},
     "output_type": "execute_result"
    },
    {
     "data": {
      "image/png": "[encoded data removed]",
      "text/plain": [
       "<matplotlib.figure.Figure at 0x118dec2d0>"
      ]
     },
     "metadata": {},
     "output_type": "display_data"
    }
   ],
   "source": [
    "def child_death_by_week(df):\n",
    "    d = {}\n",
    "    for index, row in df[df['Max children killed'].notnull()].iterrows():\n",
    "        day = row['Date'].weekday()\n",
    "        if day in d.keys():\n",
    "            d[day] += int(row['Max children killed'])\n",
    "        else:\n",
    "            d[day] = int(row['Max children killed'])\n",
    "    return d\n",
    "\n",
    "quantity = child_death_by_week(df)\n",
    "day_labels = ['Monday', 'Tuesday', 'Wednesday', 'Thursday', 'Friday', 'Saturday', 'Sunday']\n",
    "\n",
    "fig, ax = plt.subplots()\n",
    "ind = 0.6\n",
    "targets = count_targets(df)\n",
    "width = np.arange(7)\n",
    "height = [x for x in quantity.values()]\n",
    "ax.bar(width + ind, height, color='red')\n",
    "ax.set_xticks(width + ind)\n",
    "ax.set_xticklabels(day_labels, rotation=45)\n",
    "ax.set_xlabel('Day of the week')\n",
    "ax.set_ylabel('Quantity of death')"
   ]
  },
  {
   "cell_type": "markdown",
   "metadata": {},
   "source": [
    "##Insights gained from this report\n",
    "- the largest number of children died on Monday, it might depend on the fact that on Monday the largest number of children go to school, and the number of attacks on Saturday and Sunday was minimal\n",
    "\n",
    "- the largest number of children died 10/30/06, it could happen if the attack was carried out on a place with a high accumulation of children, such as school.\n",
    "\n",
    "- Top 3 most common targets of drone attacks were leaders militants of the Pakistani Taliban.\n",
    "\n",
    "- The quantity of attacks greatly increased after Obama became president.\n",
    "\n",
    "- The main organization which perpetrated the attacks were 'Al-Qaeda', 'Taliban' and 'Haqqani'"
   ]
  }
 ],
 "metadata": {
  "anaconda-cloud": {},
  "kernelspec": {
   "display_name": "Python [default]",
   "language": "python",
   "name": "python2"
  },
  "language_info": {
   "codemirror_mode": {
    "name": "ipython",
    "version": 2
   },
   "file_extension": ".py",
   "mimetype": "text/x-python",
   "name": "python",
   "nbconvert_exporter": "python",
   "pygments_lexer": "ipython2",
   "version": "2.7.12"
  }
 },
 "nbformat": 4,
 "nbformat_minor": 1
}
